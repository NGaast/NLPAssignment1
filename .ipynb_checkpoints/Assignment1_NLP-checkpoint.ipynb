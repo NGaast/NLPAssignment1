{
 "cells": [
  {
   "cell_type": "markdown",
   "metadata": {},
   "source": [
    "## Library imports"
   ]
  },
  {
   "cell_type": "code",
   "execution_count": 47,
   "metadata": {},
   "outputs": [
    {
     "name": "stderr",
     "output_type": "stream",
     "text": [
      "[nltk_data] Downloading package stopwords to\n",
      "[nltk_data]     C:\\Users\\Gaastra\\AppData\\Roaming\\nltk_data...\n",
      "[nltk_data]   Package stopwords is already up-to-date!\n"
     ]
    },
    {
     "data": {
      "text/plain": [
       "True"
      ]
     },
     "execution_count": 47,
     "metadata": {},
     "output_type": "execute_result"
    }
   ],
   "source": [
    "import pandas as pd\n",
    "import nltk\n",
    "\n",
    "nltk.download('stopwords')"
   ]
  },
  {
   "cell_type": "markdown",
   "metadata": {},
   "source": [
    "## Data Import"
   ]
  },
  {
   "cell_type": "code",
   "execution_count": 36,
   "metadata": {},
   "outputs": [],
   "source": [
    "apple_df = pd.read_csv(\"Data/AAPL.csv\")\n",
    "news_df = pd.read_csv(\"Data/us_equities_news_dataset.csv\")"
   ]
  },
  {
   "cell_type": "markdown",
   "metadata": {},
   "source": [
    "## Preprocessing"
   ]
  },
  {
   "cell_type": "code",
   "execution_count": 37,
   "metadata": {},
   "outputs": [
    {
     "name": "stdout",
     "output_type": "stream",
     "text": [
      "Duplicate rows in news_df 'content' column: 516\n"
     ]
    }
   ],
   "source": [
    "#Preprocessing Steps\n",
    "\n",
    "# Apple dataframe\n",
    "# Add price_higher column based on:\n",
    "# Close > Open = 1\n",
    "# Close <= Open = 0\n",
    "apple_df['price_higher'] = apple_df.apply(lambda row: 1 if row['Close'] > row['Open'] else 0, axis=1)\n",
    "\n",
    "# News dataframe\n",
    "# Find and delete duplicate content\n",
    "print(f\"Duplicate rows in news_df 'content' column: {news_df['content'].duplicated().sum()}\")\n",
    "news_df.drop_duplicates('content', inplace=True)\n",
    "\n",
    "# Filter news content based on Apple stock\n",
    "news_df = news_df[news_df['ticker'] == 'AAPL']\n",
    "\n",
    "# Join price_higher column with news dataframe based on date\n",
    "news_df = news_df.merge(apple_df[['Date', 'price_higher']], left_on='release_date', right_on='Date')\n",
    "news_df = news_df.drop(columns=['Date'])\n",
    "\n",
    "# Convert release_date to datetime type\n",
    "news_df['release_date'] = pd.to_datetime(news_df['release_date'])\n",
    "\n",
    "#\n",
    "news_df['content'] = news_df['content'].apply(lambda x: '. '.join(x.split(' \\n')))\n",
    "news_df['content'] = news_df['content'].apply(lambda x: '. '.join(list(filter(None, [i.strip(' ') for i in x.split('\\r\\n')]))))\n",
    "news_df['words_amount'] = news_df.apply(lambda row: len(row['content'].split(\" \")), axis=1)"
   ]
  },
  {
   "cell_type": "code",
   "execution_count": 7,
   "metadata": {},
   "outputs": [
    {
     "data": {
      "text/html": [
       "<div>\n",
       "<style scoped>\n",
       "    .dataframe tbody tr th:only-of-type {\n",
       "        vertical-align: middle;\n",
       "    }\n",
       "\n",
       "    .dataframe tbody tr th {\n",
       "        vertical-align: top;\n",
       "    }\n",
       "\n",
       "    .dataframe thead th {\n",
       "        text-align: right;\n",
       "    }\n",
       "</style>\n",
       "<table border=\"1\" class=\"dataframe\">\n",
       "  <thead>\n",
       "    <tr style=\"text-align: right;\">\n",
       "      <th></th>\n",
       "      <th>id</th>\n",
       "      <th>ticker</th>\n",
       "      <th>title</th>\n",
       "      <th>category</th>\n",
       "      <th>content</th>\n",
       "      <th>release_date</th>\n",
       "      <th>provider</th>\n",
       "      <th>url</th>\n",
       "      <th>article_id</th>\n",
       "      <th>price_higher</th>\n",
       "      <th>words_amount</th>\n",
       "    </tr>\n",
       "  </thead>\n",
       "  <tbody>\n",
       "    <tr>\n",
       "      <th>0</th>\n",
       "      <td>270698</td>\n",
       "      <td>AAPL</td>\n",
       "      <td>JPMorgan cautious ahead of Apple earnings</td>\n",
       "      <td>news</td>\n",
       "      <td>JPMorgan lifts its Apple  AAPL  2 9   target f...</td>\n",
       "      <td>2020-01-28</td>\n",
       "      <td>Seeking Alpha</td>\n",
       "      <td>https://invst.ly/pnjv8</td>\n",
       "      <td>2068762</td>\n",
       "      <td>1</td>\n",
       "      <td>102</td>\n",
       "    </tr>\n",
       "    <tr>\n",
       "      <th>1</th>\n",
       "      <td>270699</td>\n",
       "      <td>AAPL</td>\n",
       "      <td>FAANG s Fall  but Get Some Wall Street Love</td>\n",
       "      <td>news</td>\n",
       "      <td>By Kim Khan. Investing com   The FAANG stocks ...</td>\n",
       "      <td>2020-01-28</td>\n",
       "      <td>Investing.com</td>\n",
       "      <td>https://www.investing.com/news/stock-market-ne...</td>\n",
       "      <td>2068765</td>\n",
       "      <td>1</td>\n",
       "      <td>290</td>\n",
       "    </tr>\n",
       "    <tr>\n",
       "      <th>2</th>\n",
       "      <td>270700</td>\n",
       "      <td>AAPL</td>\n",
       "      <td>Wall Street tumbles as virus fuels economic worry</td>\n",
       "      <td>news</td>\n",
       "      <td>By Chuck Mikolajczak NEW YORK  Reuters    U S ...</td>\n",
       "      <td>2020-01-28</td>\n",
       "      <td>Reuters</td>\n",
       "      <td>https://www.investing.com/news/stock-market-ne...</td>\n",
       "      <td>2068311</td>\n",
       "      <td>1</td>\n",
       "      <td>866</td>\n",
       "    </tr>\n",
       "    <tr>\n",
       "      <th>3</th>\n",
       "      <td>270701</td>\n",
       "      <td>AAPL</td>\n",
       "      <td>Earnings Watch  Apple and AMD to take earnings...</td>\n",
       "      <td>news</td>\n",
       "      <td>Two of the best performing tech stocks of 2019...</td>\n",
       "      <td>2020-01-28</td>\n",
       "      <td>MarketWatch</td>\n",
       "      <td>https://invst.ly/pnlbs</td>\n",
       "      <td>2068906</td>\n",
       "      <td>1</td>\n",
       "      <td>1306</td>\n",
       "    </tr>\n",
       "    <tr>\n",
       "      <th>4</th>\n",
       "      <td>270702</td>\n",
       "      <td>AAPL</td>\n",
       "      <td>Day Ahead  Top 3 Things to Watch for Jan 28</td>\n",
       "      <td>news</td>\n",
       "      <td>By Yasin Ebrahim and Kim Khan. 1  Apple Readie...</td>\n",
       "      <td>2020-01-28</td>\n",
       "      <td>Investing.com</td>\n",
       "      <td>https://www.investing.com/news/stock-market-ne...</td>\n",
       "      <td>2068907</td>\n",
       "      <td>1</td>\n",
       "      <td>628</td>\n",
       "    </tr>\n",
       "    <tr>\n",
       "      <th>...</th>\n",
       "      <td>...</td>\n",
       "      <td>...</td>\n",
       "      <td>...</td>\n",
       "      <td>...</td>\n",
       "      <td>...</td>\n",
       "      <td>...</td>\n",
       "      <td>...</td>\n",
       "      <td>...</td>\n",
       "      <td>...</td>\n",
       "      <td>...</td>\n",
       "      <td>...</td>\n",
       "    </tr>\n",
       "    <tr>\n",
       "      <th>17643</th>\n",
       "      <td>290924</td>\n",
       "      <td>AAPL</td>\n",
       "      <td>Waiting For Direction On The Markets</td>\n",
       "      <td>opinion</td>\n",
       "      <td>This stock market has been a difficult one for...</td>\n",
       "      <td>2012-07-16</td>\n",
       "      <td>Cam Hui</td>\n",
       "      <td>https://www.investing.com/analysis/waiting-for...</td>\n",
       "      <td>129680</td>\n",
       "      <td>1</td>\n",
       "      <td>1287</td>\n",
       "    </tr>\n",
       "    <tr>\n",
       "      <th>17644</th>\n",
       "      <td>290925</td>\n",
       "      <td>AAPL</td>\n",
       "      <td>Mid Year Update  U S  And Canadian Stock Marke...</td>\n",
       "      <td>opinion</td>\n",
       "      <td>From 2004 to 2010 the TSX 300 Index of leading...</td>\n",
       "      <td>2012-07-19</td>\n",
       "      <td>Baskin Financial Blog</td>\n",
       "      <td>https://www.investing.com/analysis/mid-year-up...</td>\n",
       "      <td>130056</td>\n",
       "      <td>1</td>\n",
       "      <td>1601</td>\n",
       "    </tr>\n",
       "    <tr>\n",
       "      <th>17645</th>\n",
       "      <td>290926</td>\n",
       "      <td>AAPL</td>\n",
       "      <td>Summer Heat Scorches Europe And U S</td>\n",
       "      <td>opinion</td>\n",
       "      <td>Europe flares as summer heat continues  Summer...</td>\n",
       "      <td>2012-07-23</td>\n",
       "      <td>John Nyaradi</td>\n",
       "      <td>https://www.investing.com/analysis/summer-heat...</td>\n",
       "      <td>130439</td>\n",
       "      <td>1</td>\n",
       "      <td>647</td>\n",
       "    </tr>\n",
       "    <tr>\n",
       "      <th>17646</th>\n",
       "      <td>290927</td>\n",
       "      <td>AAPL</td>\n",
       "      <td>Apple Earnings Preview  Quarterly Dip On Deck</td>\n",
       "      <td>opinion</td>\n",
       "      <td>Last quarter Apple  AAPL  reported the 2nd bes...</td>\n",
       "      <td>2012-07-23</td>\n",
       "      <td>David Dyer</td>\n",
       "      <td>https://www.investing.com/analysis/apple-earni...</td>\n",
       "      <td>130458</td>\n",
       "      <td>1</td>\n",
       "      <td>877</td>\n",
       "    </tr>\n",
       "    <tr>\n",
       "      <th>17647</th>\n",
       "      <td>290928</td>\n",
       "      <td>AAPL</td>\n",
       "      <td>Trade Apple After Earnings</td>\n",
       "      <td>opinion</td>\n",
       "      <td>It may look like a spider web  but the mishmas...</td>\n",
       "      <td>2012-07-23</td>\n",
       "      <td>Abigail Doolittle</td>\n",
       "      <td>https://www.investing.com/analysis/trade-apple...</td>\n",
       "      <td>130440</td>\n",
       "      <td>1</td>\n",
       "      <td>542</td>\n",
       "    </tr>\n",
       "  </tbody>\n",
       "</table>\n",
       "<p>17648 rows × 11 columns</p>\n",
       "</div>"
      ],
      "text/plain": [
       "           id ticker                                              title  \\\n",
       "0      270698   AAPL          JPMorgan cautious ahead of Apple earnings   \n",
       "1      270699   AAPL        FAANG s Fall  but Get Some Wall Street Love   \n",
       "2      270700   AAPL  Wall Street tumbles as virus fuels economic worry   \n",
       "3      270701   AAPL  Earnings Watch  Apple and AMD to take earnings...   \n",
       "4      270702   AAPL        Day Ahead  Top 3 Things to Watch for Jan 28   \n",
       "...       ...    ...                                                ...   \n",
       "17643  290924   AAPL               Waiting For Direction On The Markets   \n",
       "17644  290925   AAPL  Mid Year Update  U S  And Canadian Stock Marke...   \n",
       "17645  290926   AAPL               Summer Heat Scorches Europe And U S    \n",
       "17646  290927   AAPL     Apple Earnings Preview  Quarterly Dip On Deck    \n",
       "17647  290928   AAPL                         Trade Apple After Earnings   \n",
       "\n",
       "      category                                            content  \\\n",
       "0         news  JPMorgan lifts its Apple  AAPL  2 9   target f...   \n",
       "1         news  By Kim Khan. Investing com   The FAANG stocks ...   \n",
       "2         news  By Chuck Mikolajczak NEW YORK  Reuters    U S ...   \n",
       "3         news  Two of the best performing tech stocks of 2019...   \n",
       "4         news  By Yasin Ebrahim and Kim Khan. 1  Apple Readie...   \n",
       "...        ...                                                ...   \n",
       "17643  opinion  This stock market has been a difficult one for...   \n",
       "17644  opinion  From 2004 to 2010 the TSX 300 Index of leading...   \n",
       "17645  opinion  Europe flares as summer heat continues  Summer...   \n",
       "17646  opinion  Last quarter Apple  AAPL  reported the 2nd bes...   \n",
       "17647  opinion  It may look like a spider web  but the mishmas...   \n",
       "\n",
       "      release_date               provider  \\\n",
       "0       2020-01-28          Seeking Alpha   \n",
       "1       2020-01-28          Investing.com   \n",
       "2       2020-01-28                Reuters   \n",
       "3       2020-01-28            MarketWatch   \n",
       "4       2020-01-28          Investing.com   \n",
       "...            ...                    ...   \n",
       "17643   2012-07-16                Cam Hui   \n",
       "17644   2012-07-19  Baskin Financial Blog   \n",
       "17645   2012-07-23           John Nyaradi   \n",
       "17646   2012-07-23             David Dyer   \n",
       "17647   2012-07-23      Abigail Doolittle   \n",
       "\n",
       "                                                     url  article_id  \\\n",
       "0                                 https://invst.ly/pnjv8     2068762   \n",
       "1      https://www.investing.com/news/stock-market-ne...     2068765   \n",
       "2      https://www.investing.com/news/stock-market-ne...     2068311   \n",
       "3                                 https://invst.ly/pnlbs     2068906   \n",
       "4      https://www.investing.com/news/stock-market-ne...     2068907   \n",
       "...                                                  ...         ...   \n",
       "17643  https://www.investing.com/analysis/waiting-for...      129680   \n",
       "17644  https://www.investing.com/analysis/mid-year-up...      130056   \n",
       "17645  https://www.investing.com/analysis/summer-heat...      130439   \n",
       "17646  https://www.investing.com/analysis/apple-earni...      130458   \n",
       "17647  https://www.investing.com/analysis/trade-apple...      130440   \n",
       "\n",
       "       price_higher  words_amount  \n",
       "0                 1           102  \n",
       "1                 1           290  \n",
       "2                 1           866  \n",
       "3                 1          1306  \n",
       "4                 1           628  \n",
       "...             ...           ...  \n",
       "17643             1          1287  \n",
       "17644             1          1601  \n",
       "17645             1           647  \n",
       "17646             1           877  \n",
       "17647             1           542  \n",
       "\n",
       "[17648 rows x 11 columns]"
      ]
     },
     "execution_count": 7,
     "metadata": {},
     "output_type": "execute_result"
    }
   ],
   "source": [
    "news_df#.head(2)"
   ]
  },
  {
   "cell_type": "code",
   "execution_count": 44,
   "metadata": {},
   "outputs": [
    {
     "name": "stdout",
     "output_type": "stream",
     "text": [
      "The amount of Apple articles is: 17624\n",
      "The average amount of words per article is: 723\n",
      "The amount unique words for all articles are: 137077\n",
      "9529 8095\n"
     ]
    }
   ],
   "source": [
    "print(\"The amount of Apple articles is: \" + str(len(news_df['article_id'].unique())))\n",
    "print(\"The average amount of words per article is: \" + str(round(news_df['words_amount'].mean())))\n",
    "print(\"The amount unique words for all articles are: \" + str(len(set(' '.join(news_df['content']).split(' ')))))\n",
    "\n",
    "\n",
    "# TEST: Distribution of price_higher\n",
    "days_higher = news_df[news_df['price_higher'] == 1]['price_higher'].count()\n",
    "days_lower = news_df[news_df['price_higher'] == 0]['price_higher'].count()\n",
    "\n",
    "print(days_higher, days_lower)\n",
    "#Lexical richness bekijk https://pypi.org/project/lexicalrichness/"
   ]
  },
  {
   "cell_type": "code",
   "execution_count": null,
   "metadata": {},
   "outputs": [],
   "source": [
    "news_content_test = news_df['content']\n",
    "apple_news_lower = news_content_test.str.lower()"
   ]
  },
  {
   "cell_type": "code",
   "execution_count": null,
   "metadata": {},
   "outputs": [],
   "source": []
  },
  {
   "cell_type": "code",
   "execution_count": null,
   "metadata": {},
   "outputs": [],
   "source": []
  },
  {
   "cell_type": "code",
   "execution_count": null,
   "metadata": {},
   "outputs": [],
   "source": []
  },
  {
   "cell_type": "code",
   "execution_count": null,
   "metadata": {},
   "outputs": [],
   "source": []
  },
  {
   "cell_type": "code",
   "execution_count": null,
   "metadata": {},
   "outputs": [],
   "source": []
  },
  {
   "cell_type": "code",
   "execution_count": 87,
   "metadata": {},
   "outputs": [
    {
     "data": {
      "text/plain": [
       "'Two of the best performing tech stocks of 2019 are set to report results Tuesday  but they ll do so with a looming shadow   Stocks suffered their worst day in more than three months Monday  amid fears of a virus spreading in and out of China  Apple Inc. AAPL   2 94. and Advanced Micro Devices Inc. AMD   2 16. aren t immune to the panic over the coronavirus  as investors fret about the companies  Asian supply chains   For Apple  there are possible impacts on both the supply and demand sides  according to Evercore ISI analyst Amit Daryanani  He said that of Apple s 381 manufacturing or component facilities  two are in Wuhan  China  the epicenter of the outbreak  and 69 are in Suzhou  which isn t under lockdown but has extended its holiday shutdown by an extra week  On the demand side  about 20  of Apple s revenue is  China centric   he said    For more  The Dow is about to face its stiffest test in years  Whether virus concerns make their way into Apple s forecast is an open question  Given that the company doesn t have much exposure on the supply side  the impacts there seem  manageable   in Daryanani s view  In terms of buyer dynamics  the company could take a conservative stance or give a wide range for its revenue outlook  but he points out that Apple didn t seem to explicitly factor other big events  like the Hong Kong protests  into prior forecasts   Cascend Securities Chief Investment Strategist Eric Ross adds that Apple and other tech companies typically see February downtime in China around Lunar New Year  so it will take a few weeks for them to truly gauge any impact from the virus  Apple shares sank 2 9  Monday   While AMD hasn t come under as much pressure as other chip stocks from virus fears  management may still have to address the expected impacts of the outbreak on its supply chain given how linked chip fabrication is with China  AMD s stock declined 2 2  Monday    See also  Chip stocks catch brunt of tech decline  but coronavirus could benefit U S  memory makers  Of course  the coronavirus won t be the only issue at play when Apple and AMD deliver their Tuesday afternoon reports  Apple is expected to post its highest quarterly revenue total ever and may reveal details about the early performance of its Apple TV  service  AMD s report comes in the wake of a strong performance from rival Intel Corp. INTC   4 06. which could either suggest that Intel is doing a better job of fending off AMD s competition or that chip companies with cloud exposure have broadly been benefiting from a rush of spending   What else to watch for   The coronavirus should get play on Starbucks Corp  s. SBUX   3 59. Tuesday afternoon report as well  with reports indicating that Starbucks has shut down locations in China as the virus continues to spread  Guggenheim s Matthew DiFrisco recently estimated that Starbucks has the most exposure to China among the stocks he covers  as measured by the percentage of global revenue and operating income that the country constitutes  Lunar New Year typically brings strong demand for consumer brands like Starbucks   and thus there could be lost demand   he wrote    Full Starbucks preview  Pumpkin spice lattes expected to boost sales    Further reads on the semiconductor space beyond AMD will come from Maxim Integrated Products Inc. MXIM   3 63. and Xilinx Inc. XLNX   3 77. both of which are on the afternoon docket     There hasn t been much love for eBay Inc. EBAY   0 34. lately as the company moves through a strategic review of its businesses and works on capturing more payments and advertising revenue  The company s shares are down about 10  since its last quarterly report and management will be looking to improve sentiment with the results after the bell  Cowen   Co  s John Blackledge says investors will likely be focused on factors like the company s previously announced sale of StubHub  expected to close during this quarter  and whether buyer trends are turning up   Don t miss  Are concert tickets too cheap  Ticketmaster thinks so    Xerox Corp  s. XRX   1 32. report will no doubt center on the company s attempts at a hostile takeover of HP Inc. HPQ   1 82. as Xerox readies for a proxy battle after nominating a slate of directors to HP s board  but more company specific developments also could warrant scrutiny  Xerox may provide an update on its  Project Own It  plan  unveiled during an investor day last year  that calls for a return to revenue growth by calendar 2021  Morgan Stanley s Katy Huberty doubts Xerox will see growth again in the near term     Apple is one of four Dow Jones Industrial Average. DJIA   1 57. components on Tuesday s schedule  3M Co. MMM   1 41. Pfizer Inc. PFE   0 85. and United Technologies Corp. UTX   1 41. are all on deck for the morning    Full Apple preview  A year after holiday misfire  Apple is worth twice as much    Harley Davidson Inc. HOG   1 11. could see a slowdown in shipment declines for 2020  according to William Blair analyst Sharon Zackfia  but she thinks the company might actually give a more upbeat forecast in Tuesday s results   We cannot rule out the possibility for the range of guidance to encompass both our and consensus expectations  which could mark the first time management has guided to a potential shipment increase since 2016   Zackfia wrote  The company posts results in the morning    MarketWatch staff writer Jaimy Lee contributed to this article . \\n\\n\\n\\n\\n\\n\\n\\n                                                    Emily\\n                                                    Bary\\n\\n\\n\\n\\n\\n\\n\\n\\n                                            Emily Bary is a MarketWatch reporter based in New York.                                        . \\n\\n\\n. We Want to. Hear from You\\n\\n\\nJoin the conversation\\nComment\\n\\n\\n\\n\\n\\n\\nRelated Topics\\n\\nEarnings\\nMarkets\\nU S  Stocks'"
      ]
     },
     "execution_count": 87,
     "metadata": {},
     "output_type": "execute_result"
    }
   ],
   "source": [
    "news_df['content'][3]"
   ]
  },
  {
   "cell_type": "code",
   "execution_count": 84,
   "metadata": {},
   "outputs": [
    {
     "data": {
      "text/plain": [
       "['Two of the best performing tech stocks of 2019 are set to report results Tuesday  but they ll do so with a looming shadow   Stocks suffered their worst day in more than three months Monday  amid fears of a virus spreading in and out of China  Apple Inc',\n",
       " 'AAPL   2 94',\n",
       " 'and Advanced Micro Devices Inc',\n",
       " 'AMD   2 16',\n",
       " 'aren t immune to the panic over the coronavirus  as investors fret about the companies  Asian supply chains   For Apple  there are possible impacts on both the supply and demand sides  according to Evercore ISI analyst Amit Daryanani  He said that of Apple s 381 manufacturing or component facilities  two are in Wuhan  China  the epicenter of the outbreak  and 69 are in Suzhou  which isn t under lockdown but has extended its holiday shutdown by an extra week  On the demand side  about 20  of Apple s revenue is  China centric   he said    For more  The Dow is about to face its stiffest test in years  Whether virus concerns make their way into Apple s forecast is an open question  Given that the company doesn t have much exposure on the supply side  the impacts there seem  manageable   in Daryanani s view  In terms of buyer dynamics  the company could take a conservative stance or give a wide range for its revenue outlook  but he points out that Apple didn t seem to explicitly factor other big events  like the Hong Kong protests  into prior forecasts   Cascend Securities Chief Investment Strategist Eric Ross adds that Apple and other tech companies typically see February downtime in China around Lunar New Year  so it will take a few weeks for them to truly gauge any impact from the virus  Apple shares sank 2 9  Monday   While AMD hasn t come under as much pressure as other chip stocks from virus fears  management may still have to address the expected impacts of the outbreak on its supply chain given how linked chip fabrication is with China  AMD s stock declined 2 2  Monday    See also  Chip stocks catch brunt of tech decline  but coronavirus could benefit U S  memory makers  Of course  the coronavirus won t be the only issue at play when Apple and AMD deliver their Tuesday afternoon reports  Apple is expected to post its highest quarterly revenue total ever and may reveal details about the early performance of its Apple TV  service  AMD s report comes in the wake of a strong performance from rival Intel Corp',\n",
       " 'INTC   4 06',\n",
       " 'which could either suggest that Intel is doing a better job of fending off AMD s competition or that chip companies with cloud exposure have broadly been benefiting from a rush of spending   What else to watch for   The coronavirus should get play on Starbucks Corp  s',\n",
       " 'SBUX   3 59',\n",
       " 'Tuesday afternoon report as well  with reports indicating that Starbucks has shut down locations in China as the virus continues to spread  Guggenheim s Matthew DiFrisco recently estimated that Starbucks has the most exposure to China among the stocks he covers  as measured by the percentage of global revenue and operating income that the country constitutes  Lunar New Year typically brings strong demand for consumer brands like Starbucks   and thus there could be lost demand   he wrote    Full Starbucks preview  Pumpkin spice lattes expected to boost sales    Further reads on the semiconductor space beyond AMD will come from Maxim Integrated Products Inc',\n",
       " 'MXIM   3 63',\n",
       " 'and Xilinx Inc',\n",
       " 'XLNX   3 77',\n",
       " 'both of which are on the afternoon docket     There hasn t been much love for eBay Inc',\n",
       " 'EBAY   0 34',\n",
       " 'lately as the company moves through a strategic review of its businesses and works on capturing more payments and advertising revenue  The company s shares are down about 10  since its last quarterly report and management will be looking to improve sentiment with the results after the bell  Cowen   Co  s John Blackledge says investors will likely be focused on factors like the company s previously announced sale of StubHub  expected to close during this quarter  and whether buyer trends are turning up   Don t miss  Are concert tickets too cheap  Ticketmaster thinks so    Xerox Corp  s',\n",
       " 'XRX   1 32',\n",
       " 'report will no doubt center on the company s attempts at a hostile takeover of HP Inc. HPQ   1 82',\n",
       " 'as Xerox readies for a proxy battle after nominating a slate of directors to HP s board  but more company specific developments also could warrant scrutiny  Xerox may provide an update on its  Project Own It  plan  unveiled during an investor day last year  that calls for a return to revenue growth by calendar 2021  Morgan Stanley s Katy Huberty doubts Xerox will see growth again in the near term     Apple is one of four Dow Jones Industrial Average',\n",
       " 'DJIA   1 57',\n",
       " 'components on Tuesday s schedule  3M Co',\n",
       " 'MMM   1 41',\n",
       " 'Pfizer Inc',\n",
       " 'PFE   0 85',\n",
       " 'and United Technologies Corp',\n",
       " 'UTX   1 41',\n",
       " 'are all on deck for the morning    Full Apple preview  A year after holiday misfire  Apple is worth twice as much    Harley Davidson Inc',\n",
       " 'HOG   1 11',\n",
       " 'could see a slowdown in shipment declines for 2020  according to William Blair analyst Sharon Zackfia  but she thinks the company might actually give a more upbeat forecast in Tuesday s results   We cannot rule out the possibility for the range of guidance to encompass both our and consensus expectations  which could mark the first time management has guided to a potential shipment increase since 2016   Zackfia wrote  The company posts results in the morning    MarketWatch staff writer Jaimy Lee contributed to this article . \\n\\n\\n\\n\\n\\n\\n\\n                                                    Emily\\n                                                    Bary\\n\\n\\n\\n\\n\\n\\n\\n\\n                                            Emily Bary is a MarketWatch reporter based in New York.                                        . \\n\\n\\n',\n",
       " 'We Want to',\n",
       " 'Hear from You\\n\\n\\nJoin the conversation\\nComment\\n\\n\\n\\n\\n\\n\\nRelated Topics\\n\\nEarnings\\nMarkets\\nU S  Stocks']"
      ]
     },
     "execution_count": 84,
     "metadata": {},
     "output_type": "execute_result"
    }
   ],
   "source": [
    "test = [i.strip(' ') for i in news_df['content'][3].split('\\r\\n')]\n",
    "test = list(filter(None, test))\n",
    "test"
   ]
  }
 ],
 "metadata": {
  "kernelspec": {
   "display_name": "Python 3",
   "language": "python",
   "name": "python3"
  },
  "language_info": {
   "codemirror_mode": {
    "name": "ipython",
    "version": 3
   },
   "file_extension": ".py",
   "mimetype": "text/x-python",
   "name": "python",
   "nbconvert_exporter": "python",
   "pygments_lexer": "ipython3",
   "version": "3.8.5"
  }
 },
 "nbformat": 4,
 "nbformat_minor": 4
}
